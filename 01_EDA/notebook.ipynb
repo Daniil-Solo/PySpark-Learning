{
  "nbformat": 4,
  "nbformat_minor": 0,
  "metadata": {
    "colab": {
      "provenance": []
    },
    "kernelspec": {
      "name": "python3",
      "display_name": "Python 3"
    },
    "language_info": {
      "name": "python"
    }
  },
  "cells": [
    {
      "cell_type": "markdown",
      "source": [
        "## Скачивание датасета"
      ],
      "metadata": {
        "id": "rVIVs71dKiVi"
      }
    },
    {
      "cell_type": "code",
      "execution_count": 4,
      "metadata": {
        "id": "JTMgxclGIt4D"
      },
      "outputs": [],
      "source": [
        "!wget -o retail https://archive.ics.uci.edu/static/public/352/online+retail.zip"
      ]
    },
    {
      "cell_type": "code",
      "source": [
        "!unzip online+retail.zip"
      ],
      "metadata": {
        "colab": {
          "base_uri": "https://localhost:8080/"
        },
        "id": "Sp-YdeT9Ixra",
        "outputId": "f6ad0044-7340-4d4d-efea-dbf48f323ad3"
      },
      "execution_count": 5,
      "outputs": [
        {
          "output_type": "stream",
          "name": "stdout",
          "text": [
            "Archive:  online+retail.zip\n",
            " extracting: Online Retail.xlsx      \n"
          ]
        }
      ]
    },
    {
      "cell_type": "markdown",
      "source": [
        "## Сохранение в формате csv"
      ],
      "metadata": {
        "id": "viwac0jhKtCS"
      }
    },
    {
      "cell_type": "code",
      "source": [
        "import pandas as pd"
      ],
      "metadata": {
        "id": "3OqyRXSDJQCq"
      },
      "execution_count": 6,
      "outputs": []
    },
    {
      "cell_type": "code",
      "source": [
        "EXCEL_PATH = \"Online Retail.xlsx\"\n",
        "CSV_PATH = \"retail.csv\""
      ],
      "metadata": {
        "id": "n3wb8WLELgPT"
      },
      "execution_count": 14,
      "outputs": []
    },
    {
      "cell_type": "code",
      "source": [
        "df = pd.read_excel(EXCEL_PATH)\n",
        "df.to_csv(CSV_PATH, index=False)"
      ],
      "metadata": {
        "id": "78NcswfCJU46"
      },
      "execution_count": 17,
      "outputs": []
    },
    {
      "cell_type": "code",
      "source": [
        "del df"
      ],
      "metadata": {
        "id": "i2kDpnpdLqPz"
      },
      "execution_count": 18,
      "outputs": []
    },
    {
      "cell_type": "markdown",
      "source": [
        "## Анализ данных на pyspark"
      ],
      "metadata": {
        "id": "fxxWR83OKw96"
      }
    },
    {
      "cell_type": "markdown",
      "source": [
        "### Открытие датасета"
      ],
      "metadata": {
        "id": "Bgz--LviPelM"
      }
    },
    {
      "cell_type": "code",
      "source": [
        "!pip install pyspark"
      ],
      "metadata": {
        "colab": {
          "base_uri": "https://localhost:8080/"
        },
        "id": "QrSNPJIOK-4q",
        "outputId": "6444a0fc-13f6-4850-d9af-66623a08183f"
      },
      "execution_count": 12,
      "outputs": [
        {
          "output_type": "stream",
          "name": "stdout",
          "text": [
            "Collecting pyspark\n",
            "  Downloading pyspark-3.5.1.tar.gz (317.0 MB)\n",
            "\u001b[2K     \u001b[90m━━━━━━━━━━━━━━━━━━━━━━━━━━━━━━━━━━━━━━━━\u001b[0m \u001b[32m317.0/317.0 MB\u001b[0m \u001b[31m1.4 MB/s\u001b[0m eta \u001b[36m0:00:00\u001b[0m\n",
            "\u001b[?25h  Preparing metadata (setup.py) ... \u001b[?25l\u001b[?25hdone\n",
            "Requirement already satisfied: py4j==0.10.9.7 in /usr/local/lib/python3.10/dist-packages (from pyspark) (0.10.9.7)\n",
            "Building wheels for collected packages: pyspark\n",
            "  Building wheel for pyspark (setup.py) ... \u001b[?25l\u001b[?25hdone\n",
            "  Created wheel for pyspark: filename=pyspark-3.5.1-py2.py3-none-any.whl size=317488491 sha256=b4c184fa75c7d04a6d608ba2f46473c4ef9de496e10a879198c6a9cd8b266394\n",
            "  Stored in directory: /root/.cache/pip/wheels/80/1d/60/2c256ed38dddce2fdd93be545214a63e02fbd8d74fb0b7f3a6\n",
            "Successfully built pyspark\n",
            "Installing collected packages: pyspark\n",
            "Successfully installed pyspark-3.5.1\n"
          ]
        }
      ]
    },
    {
      "cell_type": "code",
      "source": [
        "from pyspark.sql import SparkSession\n",
        "\n",
        "spark = SparkSession.builder.appName(\"PySpark\").master(\"local\").getOrCreate()"
      ],
      "metadata": {
        "id": "_FSu56EGJw2K"
      },
      "execution_count": 13,
      "outputs": []
    },
    {
      "cell_type": "code",
      "source": [
        "from pyspark.sql.types import *\n",
        "\n",
        "schema  = StructType([\n",
        "  StructField(\"InvoiceNo\", StringType(), True),\n",
        "  StructField(\"StockCode\", StringType(), True),\n",
        "  StructField(\"Description\", StringType(), True),\n",
        "  StructField(\"Quantity\", IntegerType(), True),\n",
        "  StructField(\"InvoiceDate\", DateType(), True),\n",
        "  StructField(\"UnitPrice\", FloatType(), True),\n",
        "  StructField(\"CustomerID\", StringType(), True),\n",
        "  StructField(\"Country\", StringType(), True),\n",
        "])"
      ],
      "metadata": {
        "id": "Y7HrcwigMUcj"
      },
      "execution_count": 19,
      "outputs": []
    },
    {
      "cell_type": "code",
      "source": [
        "sdf = spark.read.format(\"csv\").option(\"header\",True).schema(schema).load(CSV_PATH)"
      ],
      "metadata": {
        "id": "Kvu3Wq0QLUHD"
      },
      "execution_count": 20,
      "outputs": []
    },
    {
      "cell_type": "code",
      "source": [
        "sdf.printSchema()"
      ],
      "metadata": {
        "colab": {
          "base_uri": "https://localhost:8080/"
        },
        "id": "SV3tkSCTLvwT",
        "outputId": "8ec3f78c-a6f4-4f04-a354-b34854e21eba"
      },
      "execution_count": 21,
      "outputs": [
        {
          "output_type": "stream",
          "name": "stdout",
          "text": [
            "root\n",
            " |-- InvoiceNo: string (nullable = true)\n",
            " |-- StockCode: string (nullable = true)\n",
            " |-- Description: string (nullable = true)\n",
            " |-- Quantity: integer (nullable = true)\n",
            " |-- InvoiceDate: date (nullable = true)\n",
            " |-- UnitPrice: float (nullable = true)\n",
            " |-- CustomerID: string (nullable = true)\n",
            " |-- Country: string (nullable = true)\n",
            "\n"
          ]
        }
      ]
    },
    {
      "cell_type": "markdown",
      "source": [
        "**InvoiceNo** is a 6-digit integral number uniquely assigned to each transaction. If this code starts with letter 'c', it indicates a cancellation\n",
        "\n",
        "**StockCode** is a 5-digit integral number uniquely assigned to each distinct product\n",
        "\n",
        "**CustomerID** is a 5-digit integral number uniquely assigned to each customer"
      ],
      "metadata": {
        "id": "fqPCz26YO3W0"
      }
    },
    {
      "cell_type": "markdown",
      "source": [
        "### Изучение датасета"
      ],
      "metadata": {
        "id": "CoyyOxGAQQ6t"
      }
    },
    {
      "cell_type": "code",
      "source": [
        "import pyspark.sql.functions as F"
      ],
      "metadata": {
        "id": "jInv4haZSq7m"
      },
      "execution_count": 30,
      "outputs": []
    },
    {
      "cell_type": "code",
      "source": [
        "country_df = sdf.select(sdf.Country).distinct().toPandas()\n",
        "country_df.Country.values"
      ],
      "metadata": {
        "colab": {
          "base_uri": "https://localhost:8080/"
        },
        "id": "WLqGJuhgUbSf",
        "outputId": "45afaa13-013d-4784-e778-30cbe231f1cd"
      },
      "execution_count": 45,
      "outputs": [
        {
          "output_type": "execute_result",
          "data": {
            "text/plain": [
              "array(['Sweden', 'Singapore', 'Germany', 'RSA', 'France', 'Greece',\n",
              "       'European Community', 'Belgium', 'Finland', 'Malta', 'Unspecified',\n",
              "       'Italy', 'EIRE', 'Lithuania', 'Norway', 'Spain', 'Denmark',\n",
              "       'Hong Kong', 'Iceland', 'Israel', 'Channel Islands', 'USA',\n",
              "       'Cyprus', 'Saudi Arabia', 'Switzerland', 'United Arab Emirates',\n",
              "       'Canada', 'Czech Republic', 'Brazil', 'Lebanon', 'Japan', 'Poland',\n",
              "       'Portugal', 'Australia', 'Austria', 'Bahrain', 'United Kingdom',\n",
              "       'Netherlands'], dtype=object)"
            ]
          },
          "metadata": {},
          "execution_count": 45
        }
      ]
    },
    {
      "cell_type": "code",
      "source": [
        "transaction_count = sdf.select(sdf.InvoiceNo).distinct().count()\n",
        "print(\"Количество уникальных транзакций: \", transaction_count)"
      ],
      "metadata": {
        "colab": {
          "base_uri": "https://localhost:8080/"
        },
        "id": "WyKnuNLEPPZF",
        "outputId": "6a39aa6a-c397-43f9-e577-e53a680436ad"
      },
      "execution_count": 24,
      "outputs": [
        {
          "output_type": "stream",
          "name": "stdout",
          "text": [
            "Количество уникальных транзакций:  25900\n"
          ]
        }
      ]
    },
    {
      "cell_type": "code",
      "source": [
        "customer_transaction_amount = (\n",
        "    sdf.select(sdf.InvoiceNo, sdf.CustomerID, sdf.Quantity, sdf.UnitPrice)\n",
        "    .filter(sdf.InvoiceNo.startswith(\"C\") == False)\n",
        "    .withColumn(\"ProductAmount\", sdf.Quantity * sdf.UnitPrice)\n",
        "    .groupBy(sdf.CustomerID, sdf.InvoiceNo)\n",
        "    .agg(\n",
        "        F.sum(\"ProductAmount\").alias(\"SumProductAmount\"),\n",
        "    )\n",
        ")"
      ],
      "metadata": {
        "id": "RFsx6AkiQTMd"
      },
      "execution_count": 39,
      "outputs": []
    },
    {
      "cell_type": "code",
      "source": [
        "customer_transaction_amount.printSchema()"
      ],
      "metadata": {
        "colab": {
          "base_uri": "https://localhost:8080/"
        },
        "id": "eO9WQNmKVYD4",
        "outputId": "1a8ec1f2-f78f-43af-b203-1cb5e31fe7f0"
      },
      "execution_count": 46,
      "outputs": [
        {
          "output_type": "stream",
          "name": "stdout",
          "text": [
            "root\n",
            " |-- CustomerID: string (nullable = true)\n",
            " |-- InvoiceNo: string (nullable = true)\n",
            " |-- SumProductAmount: double (nullable = true)\n",
            "\n"
          ]
        }
      ]
    },
    {
      "cell_type": "code",
      "source": [
        "customer_country = sdf.select(sdf.CustomerID, sdf.Country).distinct()"
      ],
      "metadata": {
        "id": "GT5ninOUUP7W"
      },
      "execution_count": 48,
      "outputs": []
    },
    {
      "cell_type": "code",
      "source": [
        "customer_country.printSchema()"
      ],
      "metadata": {
        "colab": {
          "base_uri": "https://localhost:8080/"
        },
        "id": "p2yaH7BZWHYQ",
        "outputId": "1def7569-368c-47ed-ce01-24388f2f8f7f"
      },
      "execution_count": 50,
      "outputs": [
        {
          "output_type": "stream",
          "name": "stdout",
          "text": [
            "root\n",
            " |-- CustomerID: string (nullable = true)\n",
            " |-- Country: string (nullable = true)\n",
            "\n"
          ]
        }
      ]
    },
    {
      "cell_type": "code",
      "source": [
        "country_all_amount = (\n",
        "    customer_transaction_amount\n",
        "    .join(\n",
        "        customer_country,\n",
        "        on=\"CustomerID\",\n",
        "        how='inner'\n",
        "    )\n",
        "    .groupBy(\"Country\")\n",
        "    .agg(\n",
        "        F.sum(\"SumProductAmount\").alias(\"Amount\"),\n",
        "    )\n",
        "    .withColumn(\"Amount\", F.col(\"Amount\").cast(IntegerType()))\n",
        "    .sort(F.desc(\"Amount\"))\n",
        ")"
      ],
      "metadata": {
        "id": "-02eDSiTSbtO"
      },
      "execution_count": 64,
      "outputs": []
    },
    {
      "cell_type": "code",
      "source": [
        "country_all_amount.show()"
      ],
      "metadata": {
        "colab": {
          "base_uri": "https://localhost:8080/"
        },
        "id": "I3HeGlW1V_K3",
        "outputId": "f613f952-2ec9-469b-c99a-fdca4652f50f"
      },
      "execution_count": 65,
      "outputs": [
        {
          "output_type": "stream",
          "name": "stdout",
          "text": [
            "+---------------+-------+\n",
            "|        Country| Amount|\n",
            "+---------------+-------+\n",
            "| United Kingdom|7308391|\n",
            "|    Netherlands| 285446|\n",
            "|           EIRE| 265545|\n",
            "|        Germany| 228867|\n",
            "|         France| 209024|\n",
            "|      Australia| 139911|\n",
            "|          Spain|  66488|\n",
            "|    Switzerland|  57222|\n",
            "|        Belgium|  48038|\n",
            "|         Sweden|  38378|\n",
            "|          Japan|  37416|\n",
            "|         Norway|  36165|\n",
            "|       Portugal|  33439|\n",
            "|        Finland|  22546|\n",
            "|      Singapore|  21279|\n",
            "|Channel Islands|  20450|\n",
            "|        Denmark|  19774|\n",
            "|          Italy|  17483|\n",
            "|        Austria|  16779|\n",
            "|         Cyprus|  16606|\n",
            "+---------------+-------+\n",
            "only showing top 20 rows\n",
            "\n"
          ]
        }
      ]
    },
    {
      "cell_type": "code",
      "source": [
        "amount_by_date = (\n",
        "    sdf.select(sdf.InvoiceDate, sdf.Country, sdf.Quantity, sdf.UnitPrice)\n",
        "    .withColumn(\"ProductAmount\", sdf.Quantity * sdf.UnitPrice)\n",
        "    .withColumn(\"Date\", F.col(\"InvoiceDate\").cast('date'))\n",
        "    .groupBy(\"Date\", \"Country\")\n",
        "    .agg(\n",
        "        F.sum(\"ProductAmount\").alias(\"Amount\")\n",
        "    )\n",
        "    .sort(F.asc(\"Country\"), F.asc(\"Date\"))\n",
        "\n",
        ").toPandas()"
      ],
      "metadata": {
        "id": "Dy71um_OWRaX"
      },
      "execution_count": 75,
      "outputs": []
    },
    {
      "cell_type": "code",
      "source": [
        "import seaborn as sns\n",
        "\n",
        "sns.set_style(\"white\")\n",
        "filtered_amount_by_date = amount_by_date.query(\"Country in ('Spain', 'Germany', 'France')\")\n",
        "sns.lineplot(data=filtered_amount_by_date, x=\"Date\", y=\"Amount\", hue=\"Country\")"
      ],
      "metadata": {
        "colab": {
          "base_uri": "https://localhost:8080/",
          "height": 476
        },
        "id": "aqd9GYoLZRqJ",
        "outputId": "798a38db-c5b3-4469-e647-7df28bc676d8"
      },
      "execution_count": 82,
      "outputs": [
        {
          "output_type": "execute_result",
          "data": {
            "text/plain": [
              "<Axes: xlabel='Date', ylabel='Amount'>"
            ]
          },
          "metadata": {},
          "execution_count": 82
        },
        {
          "output_type": "display_data",
          "data": {
            "text/plain": [
              "<Figure size 640x480 with 1 Axes>"
            ],
            "image/png": "[encoded data removed]"
          },
          "metadata": {}
        }
      ]
    },
    {
      "cell_type": "code",
      "source": [
        "|"
      ],
      "metadata": {
        "id": "G7fiZ0-4Zsk6"
      },
      "execution_count": null,
      "outputs": []
    }
  ]
}