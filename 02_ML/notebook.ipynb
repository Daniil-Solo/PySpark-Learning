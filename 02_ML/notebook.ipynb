{
  "nbformat": 4,
  "nbformat_minor": 0,
  "metadata": {
    "colab": {
      "provenance": []
    },
    "kernelspec": {
      "name": "python3",
      "display_name": "Python 3"
    },
    "language_info": {
      "name": "python"
    }
  },
  "cells": [
    {
      "cell_type": "markdown",
      "source": [
        "##  Установка библиотек"
      ],
      "metadata": {
        "id": "qqZSQ6XfJjva"
      }
    },
    {
      "cell_type": "code",
      "execution_count": 1,
      "metadata": {
        "colab": {
          "base_uri": "https://localhost:8080/"
        },
        "id": "WsjiaiqCFZNr",
        "outputId": "11a4403a-d56f-4803-bd0b-9c86435a6a05"
      },
      "outputs": [
        {
          "output_type": "stream",
          "name": "stdout",
          "text": [
            "Requirement already satisfied: pyspark in /usr/local/lib/python3.10/dist-packages (3.5.1)\n",
            "Requirement already satisfied: py4j==0.10.9.7 in /usr/local/lib/python3.10/dist-packages (from pyspark) (0.10.9.7)\n"
          ]
        }
      ],
      "source": [
        "!pip install pyspark"
      ]
    },
    {
      "cell_type": "markdown",
      "source": [
        "## Инициализация"
      ],
      "metadata": {
        "id": "3lDyQHshJq_K"
      }
    },
    {
      "cell_type": "markdown",
      "source": [
        "Датасет: https://www.kaggle.com/competitions/house-prices-advanced-regression-techniques/overview"
      ],
      "metadata": {
        "id": "iY3R_1BExNtq"
      }
    },
    {
      "cell_type": "code",
      "source": [
        "TRAIN_CSV_PATH = \"train.csv\""
      ],
      "metadata": {
        "id": "EtQx1oRRHXJN"
      },
      "execution_count": 2,
      "outputs": []
    },
    {
      "cell_type": "code",
      "source": [
        "from pyspark.sql import SparkSession\n",
        "\n",
        "spark = SparkSession.builder.appName(\"House Prices\").master(\"local\").getOrCreate()"
      ],
      "metadata": {
        "id": "ygyJV8JcFk9M"
      },
      "execution_count": 3,
      "outputs": []
    },
    {
      "cell_type": "code",
      "source": [
        "train_sdf = spark.read.format(\"csv\").option(\"header\",True).load(TRAIN_CSV_PATH)"
      ],
      "metadata": {
        "id": "WDlAIRAGHUkK"
      },
      "execution_count": 4,
      "outputs": []
    },
    {
      "cell_type": "code",
      "source": [
        "print(\"Количество записей в датасете:\", train_sdf.count())"
      ],
      "metadata": {
        "colab": {
          "base_uri": "https://localhost:8080/"
        },
        "id": "dw9Utg0UMdvo",
        "outputId": "5c5bd8ec-93e2-4f3c-9f60-a34d928f8299"
      },
      "execution_count": 5,
      "outputs": [
        {
          "output_type": "stream",
          "name": "stdout",
          "text": [
            "Количество записей в датасете: 1460\n"
          ]
        }
      ]
    },
    {
      "cell_type": "markdown",
      "source": [
        "## Работа с признаками"
      ],
      "metadata": {
        "id": "k0ahplgcQ2I8"
      }
    },
    {
      "cell_type": "markdown",
      "source": [
        "### Извлекаемые признаки\n",
        "\n",
        "\n"
      ],
      "metadata": {
        "id": "JTeftzMTQ7GD"
      }
    },
    {
      "cell_type": "markdown",
      "source": [
        "На основе описания признаков датасета были выбраны следующие:\n",
        "- Цена продажи, таргет (SalePrice, целое)\n",
        "- Площадь территории (LotArea, целое)\n",
        "- Доступные подключения (Utilities, категориальный, следует скоратить)\n",
        "- Район города (Neighborhood, категориальный, не сокращать)\n",
        "- Тип жилья (BldgType, категориальный, следует скоратить)\n",
        "- Оценка материала и отделки дома (OverallQual, целое)\n",
        "- Оценка общего состояния дома (OverallCond, целое)\n",
        "- Дата постройки дома (YearBuilt, дата, следуте привести к возрасту)\n",
        "- Дата реконструкции (YearRemodAdd, дата, следует привести к логическому)\n",
        "- Оценка качества материала внешней отделки дома (ExterQual, категориальный, привести к целому)\n",
        "- Оценка общего состояния подвала (BsmtCond, категориальный, привести к целому)\n",
        "- Оценка качества и состояния отопления (HeatingQC, категориальный, привести к целому)\n",
        "- Наличие центрального кондиционирования (CentralAir, категориальный, привести к логическому)\n",
        "- Оценка качества кухни (KitchenQual, категориальный, привести к целому)\n",
        "- Количество каминов (Fireplaces, целый)\n",
        "- Площадь гаража (GarageArea, целый)\n",
        "- Площадь бассейна (PoolArea, целый)\n",
        "- Площадь первого этажа (1stFlrSF, целый)\n",
        "- Площадь второго этажа (2ndFlrSF, целый)"
      ],
      "metadata": {
        "id": "Q5Jan7Iv0nwW"
      }
    },
    {
      "cell_type": "code",
      "source": [
        "from pyspark.sql import functions as F\n",
        "from pyspark.sql.types import IntegerType, DataType\n",
        "\n",
        "new_train_sdf = train_sdf.select(\n",
        "    F.col(\"SalePrice\").cast(IntegerType()),\n",
        "    F.col(\"LotArea\").cast(IntegerType()),\n",
        "    F.col(\"Utilities\"),\n",
        "    F.col(\"Neighborhood\"),\n",
        "    F.col(\"BldgType\"),\n",
        "    F.col(\"OverallQual\").cast(IntegerType()),\n",
        "    F.col(\"OverallCond\").cast(IntegerType()),\n",
        "    F.col(\"YearBuilt\").cast(IntegerType()),\n",
        "    F.col(\"YearRemodAdd\").cast(IntegerType()),\n",
        "    F.col(\"ExterQual\"),\n",
        "    F.col(\"BsmtCond\"),\n",
        "    F.col(\"HeatingQC\"),\n",
        "    F.col(\"CentralAir\"),\n",
        "    F.col(\"KitchenQual\"),\n",
        "    F.col(\"Fireplaces\").cast(IntegerType()),\n",
        "    F.col(\"GarageArea\").cast(IntegerType()),\n",
        "    F.col(\"PoolArea\").cast(IntegerType()),\n",
        "    F.col(\"1stFlrSF\").cast(IntegerType()),\n",
        "    F.col(\"2ndFlrSF\").cast(IntegerType()),\n",
        ")"
      ],
      "metadata": {
        "id": "lenWVJ_PQ5hk"
      },
      "execution_count": 6,
      "outputs": []
    },
    {
      "cell_type": "markdown",
      "source": [
        "### Поработаем с категориальными фичами"
      ],
      "metadata": {
        "id": "35XL6oeo0gWP"
      }
    },
    {
      "cell_type": "markdown",
      "source": [
        "#### Посмотрим на распределение доступных подключений у дома"
      ],
      "metadata": {
        "id": "UvsxyDsd11iH"
      }
    },
    {
      "cell_type": "code",
      "source": [
        "(\n",
        "    new_train_sdf\n",
        "    .select(\"Utilities\")\n",
        "    .groupBy(\"Utilities\")\n",
        "    .agg(F.count(\"Utilities\").alias(\"Count of houses\"))\n",
        ").show()"
      ],
      "metadata": {
        "colab": {
          "base_uri": "https://localhost:8080/"
        },
        "id": "WILY4aQL0fyf",
        "outputId": "12787e3a-e737-420b-a663-77b8781e915f"
      },
      "execution_count": 7,
      "outputs": [
        {
          "output_type": "stream",
          "name": "stdout",
          "text": [
            "+---------+---------------+\n",
            "|Utilities|Count of houses|\n",
            "+---------+---------------+\n",
            "|   NoSeWa|              1|\n",
            "|   AllPub|           1459|\n",
            "+---------+---------------+\n",
            "\n"
          ]
        }
      ]
    },
    {
      "cell_type": "markdown",
      "source": [
        "Как видно только у одного дома нет воды. Возможно стоит его преобразовать в логический тип"
      ],
      "metadata": {
        "id": "sf1kD4De3cZU"
      }
    },
    {
      "cell_type": "code",
      "source": [
        "new_train_sdf = (\n",
        "    new_train_sdf\n",
        "    .withColumn(\"HasAllUtils\", F.col(\"Utilities\") == \"AllPub\")\n",
        "    .drop(\"Utilities\")\n",
        ")"
      ],
      "metadata": {
        "id": "CIYeKlVN1mA2"
      },
      "execution_count": 8,
      "outputs": []
    },
    {
      "cell_type": "markdown",
      "source": [
        "#### Посмотрим на распределение районов"
      ],
      "metadata": {
        "id": "eC91vR8X3uV8"
      }
    },
    {
      "cell_type": "code",
      "source": [
        "(\n",
        "    new_train_sdf\n",
        "    .select(\"Neighborhood\", \"SalePrice\")\n",
        "    .groupBy(\"Neighborhood\")\n",
        "    .agg(\n",
        "        F.count(\"Neighborhood\").alias(\"Count of houses\"),\n",
        "        F.median(\"SalePrice\").alias(\"Average sale price\")\n",
        "    )\n",
        ").show(30)"
      ],
      "metadata": {
        "colab": {
          "base_uri": "https://localhost:8080/"
        },
        "id": "hej98fvL3eEc",
        "outputId": "b6907cbd-6ac6-4701-f245-88faec1f3c54"
      },
      "execution_count": 9,
      "outputs": [
        {
          "output_type": "stream",
          "name": "stdout",
          "text": [
            "+------------+---------------+------------------+\n",
            "|Neighborhood|Count of houses|Average sale price|\n",
            "+------------+---------------+------------------+\n",
            "|     Veenker|             11|          218000.0|\n",
            "|     BrkSide|             58|          124300.0|\n",
            "|     NPkVill|              9|          146000.0|\n",
            "|     NridgHt|             77|          315000.0|\n",
            "|     NoRidge|             41|          301500.0|\n",
            "|      NWAmes|             73|          182900.0|\n",
            "|     OldTown|            113|          119000.0|\n",
            "|     Gilbert|             79|          181000.0|\n",
            "|     Somerst|             86|          225500.0|\n",
            "|     Crawfor|             51|          200624.0|\n",
            "|       NAmes|            225|          140000.0|\n",
            "|      IDOTRR|             37|          103000.0|\n",
            "|     Edwards|            100|          121750.0|\n",
            "|      Sawyer|             74|          135000.0|\n",
            "|     StoneBr|             25|          278000.0|\n",
            "|     CollgCr|            150|          197200.0|\n",
            "|       SWISU|             25|          139500.0|\n",
            "|     MeadowV|             17|           88000.0|\n",
            "|      Timber|             38|          228475.0|\n",
            "|     Blmngtn|             17|          191000.0|\n",
            "|     Mitchel|             49|          153500.0|\n",
            "|     SawyerW|             59|          179900.0|\n",
            "|     Blueste|              2|          137500.0|\n",
            "|      BrDale|             16|          106000.0|\n",
            "|     ClearCr|             28|          200250.0|\n",
            "+------------+---------------+------------------+\n",
            "\n"
          ]
        }
      ]
    },
    {
      "cell_type": "markdown",
      "source": [
        "Видно что для каких-то районов медианная зарплата выше или ниже, значит стоит учесть районность дома"
      ],
      "metadata": {
        "id": "aoIQVR0S5Iis"
      }
    },
    {
      "cell_type": "markdown",
      "source": [
        "#### Посмотрим на распределение типов жилья"
      ],
      "metadata": {
        "id": "HU5gvs-65iMz"
      }
    },
    {
      "cell_type": "code",
      "source": [
        "(\n",
        "    new_train_sdf\n",
        "    .select(\"BldgType\", \"SalePrice\")\n",
        "    .groupBy(\"BldgType\")\n",
        "    .agg(\n",
        "        F.count(\"BldgType\").alias(\"Count of houses\"),\n",
        "        F.median(\"SalePrice\").alias(\"Average sale price\")\n",
        "    )\n",
        ").show(10)"
      ],
      "metadata": {
        "colab": {
          "base_uri": "https://localhost:8080/"
        },
        "id": "HhRMrDZX3eIk",
        "outputId": "40b5fead-35b7-4de7-a2e3-99367fc26a06"
      },
      "execution_count": 10,
      "outputs": [
        {
          "output_type": "stream",
          "name": "stdout",
          "text": [
            "+--------+---------------+------------------+\n",
            "|BldgType|Count of houses|Average sale price|\n",
            "+--------+---------------+------------------+\n",
            "|   Twnhs|             43|          137500.0|\n",
            "|    1Fam|           1220|          167900.0|\n",
            "|  Duplex|             52|          135980.0|\n",
            "|  2fmCon|             31|          127500.0|\n",
            "|  TwnhsE|            114|          172200.0|\n",
            "+--------+---------------+------------------+\n",
            "\n"
          ]
        }
      ]
    },
    {
      "cell_type": "markdown",
      "source": [
        "Возможно имеет смысл выделить признак того, что дом ориентирован на 1 семью"
      ],
      "metadata": {
        "id": "X70_q4Gt6w4R"
      }
    },
    {
      "cell_type": "code",
      "source": [
        "new_train_sdf = (\n",
        "    new_train_sdf\n",
        "    .withColumn(\n",
        "        \"For1Fam\",\n",
        "        (\n",
        "            F.when(F.col(\"BldgType\") == \"1Fam\", True)\n",
        "            .when(F.col(\"BldgType\") == \"TwnhsE\", True)\n",
        "            .when(F.col(\"BldgType\") == \"TwnhsI\", True)\n",
        "            .otherwise(False)\n",
        "        )\n",
        "    )\n",
        "    .drop(\"BldgType\")\n",
        ")"
      ],
      "metadata": {
        "id": "XV3APoyi1mK3"
      },
      "execution_count": 11,
      "outputs": []
    },
    {
      "cell_type": "markdown",
      "source": [
        "#### Посмотрим на распределение оценки качества материала внешней отделки дома"
      ],
      "metadata": {
        "id": "u6lVSynp8ZMA"
      }
    },
    {
      "cell_type": "code",
      "source": [
        "(\n",
        "    new_train_sdf\n",
        "    .select(\"ExterQual\", \"SalePrice\")\n",
        "    .groupBy(\"ExterQual\")\n",
        "    .agg(\n",
        "        F.count(\"ExterQual\").alias(\"Count of houses\"),\n",
        "        F.median(\"SalePrice\").alias(\"Average sale price\")\n",
        "    )\n",
        ").show(10)"
      ],
      "metadata": {
        "colab": {
          "base_uri": "https://localhost:8080/"
        },
        "id": "x4xCA4rI83LM",
        "outputId": "b70ded1e-df21-47a4-d22b-b3a32fbf0e2a"
      },
      "execution_count": 12,
      "outputs": [
        {
          "output_type": "stream",
          "name": "stdout",
          "text": [
            "+---------+---------------+------------------+\n",
            "|ExterQual|Count of houses|Average sale price|\n",
            "+---------+---------------+------------------+\n",
            "|       Gd|            488|          220000.0|\n",
            "|       Ex|             52|          364606.5|\n",
            "|       Fa|             14|           82250.0|\n",
            "|       TA|            906|          139450.0|\n",
            "+---------+---------------+------------------+\n",
            "\n"
          ]
        }
      ]
    },
    {
      "cell_type": "markdown",
      "source": [
        "Смапим значения\n",
        "- Ex  -> 5\tExcellent        \n",
        "- Gd\t-> 4  Good\n",
        "- TA\t-> 3  Average/Typical\n",
        "- Fa\t-> 2  Fair\n",
        "- Po\t-> 1 Poor"
      ],
      "metadata": {
        "id": "gD_OfzoM9EPo"
      }
    },
    {
      "cell_type": "code",
      "source": [
        "new_train_sdf = (\n",
        "    new_train_sdf\n",
        "    .withColumn(\n",
        "        \"ExterQual\",\n",
        "        (\n",
        "            F.when(F.col(\"ExterQual\") == \"Ex\", 5)\n",
        "            .when(F.col(\"ExterQual\") == \"Gd\", 4)\n",
        "            .when(F.col(\"ExterQual\") == \"TA\", 3)\n",
        "            .when(F.col(\"ExterQual\") == \"Fa\", 2)\n",
        "            .otherwise(1)\n",
        "        )\n",
        "    )\n",
        ")"
      ],
      "metadata": {
        "id": "69xHtSqX9DnQ"
      },
      "execution_count": 13,
      "outputs": []
    },
    {
      "cell_type": "markdown",
      "source": [
        "#### Посмотрим на распределение оценки общего состояния подвала"
      ],
      "metadata": {
        "id": "5R1WCZmy-qiH"
      }
    },
    {
      "cell_type": "code",
      "source": [
        "(\n",
        "    new_train_sdf\n",
        "    .select(\"BsmtCond\", \"SalePrice\")\n",
        "    .groupBy(\"BsmtCond\")\n",
        "    .agg(\n",
        "        F.count(\"BsmtCond\").alias(\"Count of houses\"),\n",
        "        F.median(\"SalePrice\").alias(\"Average sale price\")\n",
        "    )\n",
        ").show(10)"
      ],
      "metadata": {
        "colab": {
          "base_uri": "https://localhost:8080/"
        },
        "id": "aP5d29hM-mvZ",
        "outputId": "195bd4e3-f02e-41e9-ed4a-dbea4f0265a3"
      },
      "execution_count": 14,
      "outputs": [
        {
          "output_type": "stream",
          "name": "stdout",
          "text": [
            "+--------+---------------+------------------+\n",
            "|BsmtCond|Count of houses|Average sale price|\n",
            "+--------+---------------+------------------+\n",
            "|      Gd|             65|          193879.0|\n",
            "|      NA|             37|          101800.0|\n",
            "|      Po|              2|           64000.0|\n",
            "|      Fa|             45|          118500.0|\n",
            "|      TA|           1311|          165000.0|\n",
            "+--------+---------------+------------------+\n",
            "\n"
          ]
        }
      ]
    },
    {
      "cell_type": "code",
      "source": [
        "new_train_sdf = (\n",
        "    new_train_sdf\n",
        "    .withColumn(\n",
        "        \"BsmtCond\",\n",
        "        (\n",
        "            F.when(F.col(\"BsmtCond\") == \"Ex\", 5)\n",
        "            .when(F.col(\"BsmtCond\") == \"Gd\", 4)\n",
        "            .when(F.col(\"BsmtCond\") == \"TA\", 3)\n",
        "            .when(F.col(\"BsmtCond\") == \"Fa\", 2)\n",
        "            .otherwise(1)\n",
        "        )\n",
        "    )\n",
        ")"
      ],
      "metadata": {
        "id": "XiFzUlHi-myn"
      },
      "execution_count": 15,
      "outputs": []
    },
    {
      "cell_type": "markdown",
      "source": [
        "#### Посмотрим на распределение оценки качества и состояния отопления"
      ],
      "metadata": {
        "id": "Yg8dt8vK_V6Q"
      }
    },
    {
      "cell_type": "code",
      "source": [
        "(\n",
        "    new_train_sdf\n",
        "    .select(\"HeatingQC\", \"SalePrice\")\n",
        "    .groupBy(\"HeatingQC\")\n",
        "    .agg(\n",
        "        F.count(\"HeatingQC\").alias(\"Count of houses\"),\n",
        "        F.median(\"SalePrice\").alias(\"Average sale price\")\n",
        "    )\n",
        ").show(10)"
      ],
      "metadata": {
        "colab": {
          "base_uri": "https://localhost:8080/"
        },
        "id": "C4C3Atvx-m1v",
        "outputId": "869d03a5-784b-4772-e370-12183eba50b9"
      },
      "execution_count": 16,
      "outputs": [
        {
          "output_type": "stream",
          "name": "stdout",
          "text": [
            "+---------+---------------+------------------+\n",
            "|HeatingQC|Count of houses|Average sale price|\n",
            "+---------+---------------+------------------+\n",
            "|       Gd|            241|          152000.0|\n",
            "|       Po|              1|           87000.0|\n",
            "|       Ex|            741|          194700.0|\n",
            "|       Fa|             49|          123500.0|\n",
            "|       TA|            428|          135000.0|\n",
            "+---------+---------------+------------------+\n",
            "\n"
          ]
        }
      ]
    },
    {
      "cell_type": "code",
      "source": [
        "new_train_sdf = (\n",
        "    new_train_sdf\n",
        "    .withColumn(\n",
        "        \"HeatingQC\",\n",
        "        (\n",
        "            F.when(F.col(\"HeatingQC\") == \"Ex\", 5)\n",
        "            .when(F.col(\"HeatingQC\") == \"Gd\", 4)\n",
        "            .when(F.col(\"HeatingQC\") == \"TA\", 3)\n",
        "            .when(F.col(\"HeatingQC\") == \"Fa\", 2)\n",
        "            .otherwise(1)\n",
        "        )\n",
        "    )\n",
        ")"
      ],
      "metadata": {
        "id": "iO5n-nV5-m4u"
      },
      "execution_count": 17,
      "outputs": []
    },
    {
      "cell_type": "markdown",
      "source": [
        "#### Посмотрим на распределение наличие центрального кондиционирования"
      ],
      "metadata": {
        "id": "x72bneZW_qD-"
      }
    },
    {
      "cell_type": "code",
      "source": [
        "(\n",
        "    new_train_sdf\n",
        "    .select(\"CentralAir\", \"SalePrice\")\n",
        "    .groupBy(\"CentralAir\")\n",
        "    .agg(\n",
        "        F.count(\"CentralAir\").alias(\"Count of houses\"),\n",
        "        F.median(\"SalePrice\").alias(\"Average sale price\")\n",
        "    )\n",
        ").show(10)"
      ],
      "metadata": {
        "colab": {
          "base_uri": "https://localhost:8080/"
        },
        "id": "Zv-3jk6B-m7o",
        "outputId": "9673c9ff-dee5-4f05-e892-0af128e4536a"
      },
      "execution_count": 18,
      "outputs": [
        {
          "output_type": "stream",
          "name": "stdout",
          "text": [
            "+----------+---------------+------------------+\n",
            "|CentralAir|Count of houses|Average sale price|\n",
            "+----------+---------------+------------------+\n",
            "|         Y|           1365|          168000.0|\n",
            "|         N|             95|           98000.0|\n",
            "+----------+---------------+------------------+\n",
            "\n"
          ]
        }
      ]
    },
    {
      "cell_type": "code",
      "source": [
        "new_train_sdf = (\n",
        "    new_train_sdf\n",
        "    .withColumn(\n",
        "        \"HasCentralAir\",\n",
        "        (\n",
        "            F.when(F.col(\"CentralAir\") == \"Y\", True)\n",
        "            .otherwise(False)\n",
        "        )\n",
        "    )\n",
        "    .drop(\"CentralAir\")\n",
        ")"
      ],
      "metadata": {
        "id": "Lrqw0sjQ_yQf"
      },
      "execution_count": 19,
      "outputs": []
    },
    {
      "cell_type": "markdown",
      "source": [
        "#### Посмотрим на распределение оценки качества кухни"
      ],
      "metadata": {
        "id": "h3I1zJLB__BY"
      }
    },
    {
      "cell_type": "code",
      "source": [
        "(\n",
        "    new_train_sdf\n",
        "    .select(\"KitchenQual\", \"SalePrice\")\n",
        "    .groupBy(\"KitchenQual\")\n",
        "    .agg(\n",
        "        F.count(\"KitchenQual\").alias(\"Count of houses\"),\n",
        "        F.median(\"SalePrice\").alias(\"Average sale price\")\n",
        "    )\n",
        ").show(10)"
      ],
      "metadata": {
        "colab": {
          "base_uri": "https://localhost:8080/"
        },
        "id": "kug23odjAah_",
        "outputId": "03b3c4c5-8b52-4864-b840-53833bfc4c9b"
      },
      "execution_count": 20,
      "outputs": [
        {
          "output_type": "stream",
          "name": "stdout",
          "text": [
            "+-----------+---------------+------------------+\n",
            "|KitchenQual|Count of houses|Average sale price|\n",
            "+-----------+---------------+------------------+\n",
            "|         Gd|            586|          201400.0|\n",
            "|         Ex|            100|          316750.0|\n",
            "|         Fa|             39|          115000.0|\n",
            "|         TA|            735|          137000.0|\n",
            "+-----------+---------------+------------------+\n",
            "\n"
          ]
        }
      ]
    },
    {
      "cell_type": "code",
      "source": [
        "new_train_sdf = (\n",
        "    new_train_sdf\n",
        "    .withColumn(\n",
        "        \"KitchenQual\",\n",
        "        (\n",
        "            F.when(F.col(\"KitchenQual\") == \"Ex\", 5)\n",
        "            .when(F.col(\"KitchenQual\") == \"Gd\", 4)\n",
        "            .when(F.col(\"KitchenQual\") == \"TA\", 3)\n",
        "            .when(F.col(\"KitchenQual\") == \"Fa\", 2)\n",
        "            .otherwise(1)\n",
        "        )\n",
        "    )\n",
        ")"
      ],
      "metadata": {
        "id": "5K0N9sFSAe9f"
      },
      "execution_count": 21,
      "outputs": []
    },
    {
      "cell_type": "markdown",
      "source": [
        "### Поработаем с числовыми фичами"
      ],
      "metadata": {
        "id": "FZpWSiz4A3EP"
      }
    },
    {
      "cell_type": "markdown",
      "source": [
        "#### Получим факт реконструкции дома"
      ],
      "metadata": {
        "id": "umgwwDUJBXkV"
      }
    },
    {
      "cell_type": "code",
      "source": [
        "new_train_sdf = (\n",
        "    new_train_sdf\n",
        "    .withColumn(\n",
        "        \"HasReconstruction\", F.col(\"YearRemodAdd\") != F.col(\"YearBuilt\")\n",
        "    )\n",
        "    .drop(\"YearRemodAdd\")\n",
        ")"
      ],
      "metadata": {
        "id": "nOjPfx4-AsFp"
      },
      "execution_count": 22,
      "outputs": []
    },
    {
      "cell_type": "markdown",
      "source": [
        "#### Получим возраст дома"
      ],
      "metadata": {
        "id": "CFkn6nx6Anee"
      }
    },
    {
      "cell_type": "code",
      "source": [
        "CURRENT_YEAR = 2024\n",
        "\n",
        "new_train_sdf = (\n",
        "    new_train_sdf\n",
        "    .withColumn(\n",
        "        \"Age\", CURRENT_YEAR - F.col(\"YearBuilt\")\n",
        "    )\n",
        "    .drop(\"YearBuilt\")\n",
        ")"
      ],
      "metadata": {
        "id": "FJAkAxm6AlX-"
      },
      "execution_count": 23,
      "outputs": []
    },
    {
      "cell_type": "markdown",
      "source": [
        "### Посмотрим на полученную схему"
      ],
      "metadata": {
        "id": "NyTkEaeyB6KV"
      }
    },
    {
      "cell_type": "code",
      "source": [
        "new_train_sdf.printSchema()"
      ],
      "metadata": {
        "colab": {
          "base_uri": "https://localhost:8080/"
        },
        "id": "AbM-gRdCB3EA",
        "outputId": "24ca97f4-6bee-4e99-b2e7-ae3cf3805534"
      },
      "execution_count": 24,
      "outputs": [
        {
          "output_type": "stream",
          "name": "stdout",
          "text": [
            "root\n",
            " |-- SalePrice: integer (nullable = true)\n",
            " |-- LotArea: integer (nullable = true)\n",
            " |-- Neighborhood: string (nullable = true)\n",
            " |-- OverallQual: integer (nullable = true)\n",
            " |-- OverallCond: integer (nullable = true)\n",
            " |-- ExterQual: integer (nullable = false)\n",
            " |-- BsmtCond: integer (nullable = false)\n",
            " |-- HeatingQC: integer (nullable = false)\n",
            " |-- KitchenQual: integer (nullable = false)\n",
            " |-- Fireplaces: integer (nullable = true)\n",
            " |-- GarageArea: integer (nullable = true)\n",
            " |-- PoolArea: integer (nullable = true)\n",
            " |-- 1stFlrSF: integer (nullable = true)\n",
            " |-- 2ndFlrSF: integer (nullable = true)\n",
            " |-- HasAllUtils: boolean (nullable = true)\n",
            " |-- For1Fam: boolean (nullable = false)\n",
            " |-- HasCentralAir: boolean (nullable = false)\n",
            " |-- HasReconstruction: boolean (nullable = true)\n",
            " |-- Age: integer (nullable = true)\n",
            "\n"
          ]
        }
      ]
    },
    {
      "cell_type": "markdown",
      "source": [
        "## Обучение модели"
      ],
      "metadata": {
        "id": "A4GJYpMDC5CF"
      }
    },
    {
      "cell_type": "markdown",
      "source": [
        "### Подготовка вектора фичей для модели"
      ],
      "metadata": {
        "id": "gimlLaYhDAlu"
      }
    },
    {
      "cell_type": "markdown",
      "source": [
        "#### Масштабирование некоторых числовых признаков"
      ],
      "metadata": {
        "id": "UdZ-vIVpN5MM"
      }
    },
    {
      "cell_type": "markdown",
      "source": [
        "LotArea, GarageArea, PoolArea, 1stFlrSF, 2ndFlrSF, Age"
      ],
      "metadata": {
        "id": "z4gaMjpBODmj"
      }
    },
    {
      "cell_type": "code",
      "source": [
        "TO_SCALE_FEATURES = [\n",
        "    \"LotArea\", \"GarageArea\", \"PoolArea\",\n",
        "    \"1stFlrSF\", \"2ndFlrSF\", \"Age\"\n",
        "]"
      ],
      "metadata": {
        "id": "ApgMcLqlNjH3"
      },
      "execution_count": 25,
      "outputs": []
    },
    {
      "cell_type": "code",
      "source": [
        "from pyspark.ml.feature import VectorAssembler, StandardScaler\n",
        "\n",
        "to_scale_assembler = VectorAssembler(\n",
        "    inputCols=TO_SCALE_FEATURES, outputCol=\"to_scale_features\"\n",
        ")\n",
        "to_scale_sdf = to_scale_assembler.transform(new_train_sdf)\n",
        "\n",
        "scaler = StandardScaler(\n",
        "    inputCol=\"to_scale_features\", outputCol=\"scaled_features\",\n",
        "    withMean=True, withStd=True\n",
        ")\n",
        "scaler_model = scaler.fit(to_scale_sdf)\n",
        "scaled_sdf = scaler_model.transform(to_scale_sdf)"
      ],
      "metadata": {
        "id": "AlXfIOZbOGnX"
      },
      "execution_count": 26,
      "outputs": []
    },
    {
      "cell_type": "code",
      "source": [
        "scaled_sdf.select(*TO_SCALE_FEATURES, \"to_scale_features\", \"scaled_features\").show(truncate=False)"
      ],
      "metadata": {
        "colab": {
          "base_uri": "https://localhost:8080/"
        },
        "id": "Ls1nqpMlPkuE",
        "outputId": "1183c21b-6ce5-4113-ef43-c969ae69f94c"
      },
      "execution_count": 27,
      "outputs": [
        {
          "output_type": "stream",
          "name": "stdout",
          "text": [
            "+-------+----------+--------+--------+--------+---+--------------------------------------+-----------------------------------------------------------------------------------------------------------------------------+\n",
            "|LotArea|GarageArea|PoolArea|1stFlrSF|2ndFlrSF|Age|to_scale_features                     |scaled_features                                                                                                              |\n",
            "+-------+----------+--------+--------+--------+---+--------------------------------------+-----------------------------------------------------------------------------------------------------------------------------+\n",
            "|8450   |548       |0       |856     |854     |21 |[8450.0,548.0,0.0,856.0,854.0,21.0]   |[-0.20707075668205258,0.35088009468698733,-0.06866821893757226,-0.7931620228890606,1.1614536249333418,-1.050633797867364]    |\n",
            "|9600   |460       |0       |1262    |0       |48 |[9600.0,460.0,0.0,1262.0,0.0,48.0]    |[-0.0918548989935738,-0.06071021076074101,-0.06866821893757226,0.2570523529141964,-0.7948908644380687,-0.1566800256743195]   |\n",
            "|11250  |608       |0       |920     |866     |23 |[11250.0,608.0,0.0,920.0,866.0,23.0]  |[0.07345480986380883,0.6315098484013476,-0.06866821893757226,-0.6276109882796802,1.188943243050973,-0.9844149999271384]      |\n",
            "|9550   |642       |0       |961     |756     |109|[9550.0,642.0,0.0,961.0,756.0,109.0]  |[-0.09686428411046417,0.7905333755061517,-0.06866821893757226,-0.5215548567330459,0.9369550769726882,1.8629933115025588]     |\n",
            "|14260  |836       |0       |1145    |1053    |24 |[14260.0,836.0,0.0,1145.0,1053.0,24.0]|[0.37501979390060985,1.6979029125159164,-0.06866821893757226,-0.045595632231077154,1.617323125384057,-0.9513056009570258]    |\n",
            "|14115  |480       |0       |796     |566     |31 |[14115.0,480.0,0.0,796.0,566.0,31.0]  |[0.36049257706162774,0.03283304047737907,-0.06866821893757226,-0.9483661178353547,0.5017027901101964,-0.7195398081662364]    |\n",
            "|10084  |636       |0       |1694    |0       |20 |[10084.0,636.0,0.0,1694.0,0.0,20.0]   |[-0.043364051062074895,0.7624704001347157,-0.06866821893757226,1.3745218365275143,-0.7948908644380687,-1.0837431968374767]   |\n",
            "|10382  |484       |0       |1107    |983     |51 |[10382.0,484.0,0.0,1107.0,983.0,51.0] |[-0.013508115765408215,0.05154169072500308,-0.06866821893757226,-0.14389155903039677,1.4569670196978757,-0.05735182876398122]|\n",
            "|6120   |468       |0       |1022    |752     |93 |[6120.0,468.0,0.0,1022.0,752.0,93.0]  |[-0.4405081031291444,-0.023292910265492982,-0.06866821893757226,-0.36376402687098014,0.9277918709334778,1.3332429279807547]  |\n",
            "|7420   |205       |0       |1077    |0       |85 |[7420.0,205.0,0.0,1077.0,0.0,85.0]    |[-0.31026409008999445,-1.253386664046772,-0.06866821893757226,-0.22149360650354386,-0.7948908644380687,1.0683677362198525]   |\n",
            "|11200  |384       |0       |1040    |0       |59 |[11200.0,384.0,0.0,1040.0,0.0,59.0]   |[0.06844542474691843,-0.4161745654655973,-0.06866821893757226,-0.3172027983870919,-0.7948908644380687,0.20752336299692084]   |\n",
            "|11924  |736       |0       |1182    |1142    |19 |[11924.0,736.0,0.0,1182.0,1142.0,19.0]|[0.14098132123949117,1.230186656325316,-0.06866821893757226,0.0501135596524709,1.8212044597564874,-1.1168525958075894]       |\n",
            "|12968  |352       |0       |912     |0       |62 |[12968.0,352.0,0.0,912.0,0.0,62.0]    |[0.24557728248016236,-0.5658437674465894,-0.06866821893757226,-0.6483048676058527,-0.7948908644380687,0.30685155990725915]   |\n",
            "|10652  |840       |0       |1494    |0       |18 |[10652.0,840.0,0.0,1494.0,0.0,18.0]   |[0.013542563865799849,1.7166115627635405,-0.06866821893757226,0.8571748533732004,-0.7948908644380687,-1.1499619947777022]    |\n",
            "|10920  |352       |0       |1253    |0       |64 |[10920.0,352.0,0.0,1253.0,0.0,64.0]   |[0.0403928680923323,-0.5658437674465894,-0.06866821893757226,0.23377173867225232,-0.7948908644380687,0.37307035784748466]    |\n",
            "|6120   |576       |0       |854     |0       |95 |[6120.0,576.0,0.0,854.0,0.0,95.0]     |[-0.4405081031291444,0.48184064642035546,-0.06866821893757226,-0.7983354927206038,-0.7948908644380687,1.3994617259209803]    |\n",
            "|11241  |480       |0       |1004    |0       |54 |[11241.0,480.0,0.0,1004.0,0.0,54.0]   |[0.07255312054276855,0.03283304047737907,-0.06866821893757226,-0.4103252553548684,-0.7948908644380687,0.04197636814635706]   |\n",
            "|10791  |516       |0       |1296    |0       |57 |[10791.0,516.0,0.0,1296.0,0.0,57.0]   |[0.027468654490755112,0.2012108927059952,-0.06866821893757226,0.34500134005042976,-0.7948908644380687,0.14130456505669534]   |\n",
            "|13695  |576       |0       |1114    |0       |20 |[13695.0,576.0,0.0,1114.0,0.0,20.0]   |[0.3184137420797485,0.48184064642035546,-0.06866821893757226,-0.1257844146199958,-0.7948908644380687,-1.0837431968374767]    |\n",
            "|7560   |294       |0       |1339    |0       |66 |[7560.0,294.0,0.0,1339.0,0.0,66.0]    |[-0.29623781176270136,-0.8371191960371377,-0.06866821893757226,0.45623094142860726,-0.7948908644380687,0.43928915578771016]  |\n",
            "+-------+----------+--------+--------+--------+---+--------------------------------------+-----------------------------------------------------------------------------------------------------------------------------+\n",
            "only showing top 20 rows\n",
            "\n"
          ]
        }
      ]
    },
    {
      "cell_type": "markdown",
      "source": [
        "#### One Hot кодирование района"
      ],
      "metadata": {
        "id": "9oeIVPlYVkdO"
      }
    },
    {
      "cell_type": "code",
      "source": [
        "from pyspark.ml.feature import StringIndexer, OneHotEncoder\n",
        "\n",
        "district_indexer = StringIndexer(\n",
        "    inputCol=\"Neighborhood\", outputCol=\"NeighborhoodIndex\"\n",
        ")\n",
        "district_indexer_model = district_indexer.fit(scaled_sdf)\n",
        "indexed_sdf = district_indexer_model.transform(scaled_sdf)\n",
        "\n",
        "district_ohe = OneHotEncoder(\n",
        "    inputCol=\"NeighborhoodIndex\", outputCol=\"NeighborhoodOHE\"\n",
        ")\n",
        "district_ohe_model = district_ohe.fit(indexed_sdf)\n",
        "encoded_sdf = district_ohe_model.transform(indexed_sdf)"
      ],
      "metadata": {
        "id": "2QeB1wU2RLDc"
      },
      "execution_count": 28,
      "outputs": []
    },
    {
      "cell_type": "code",
      "source": [
        "encoded_sdf.select(\"Neighborhood\", \"NeighborhoodIndex\", \"NeighborhoodOHE\").show(truncate=False)"
      ],
      "metadata": {
        "colab": {
          "base_uri": "https://localhost:8080/"
        },
        "id": "RN0TzaM5VHgH",
        "outputId": "c525b32d-3f3f-4dc9-b7ab-18f2ccda9607"
      },
      "execution_count": 29,
      "outputs": [
        {
          "output_type": "stream",
          "name": "stdout",
          "text": [
            "+------------+-----------------+---------------+\n",
            "|Neighborhood|NeighborhoodIndex|NeighborhoodOHE|\n",
            "+------------+-----------------+---------------+\n",
            "|CollgCr     |1.0              |(24,[1],[1.0]) |\n",
            "|Veenker     |22.0             |(24,[22],[1.0])|\n",
            "|CollgCr     |1.0              |(24,[1],[1.0]) |\n",
            "|Crawfor     |11.0             |(24,[11],[1.0])|\n",
            "|NoRidge     |13.0             |(24,[13],[1.0])|\n",
            "|Mitchel     |12.0             |(24,[12],[1.0])|\n",
            "|Somerst     |4.0              |(24,[4],[1.0]) |\n",
            "|NWAmes      |8.0              |(24,[8],[1.0]) |\n",
            "|OldTown     |2.0              |(24,[2],[1.0]) |\n",
            "|BrkSide     |10.0             |(24,[10],[1.0])|\n",
            "|Sawyer      |7.0              |(24,[7],[1.0]) |\n",
            "|NridgHt     |6.0              |(24,[6],[1.0]) |\n",
            "|Sawyer      |7.0              |(24,[7],[1.0]) |\n",
            "|CollgCr     |1.0              |(24,[1],[1.0]) |\n",
            "|NAmes       |0.0              |(24,[0],[1.0]) |\n",
            "|BrkSide     |10.0             |(24,[10],[1.0])|\n",
            "|NAmes       |0.0              |(24,[0],[1.0]) |\n",
            "|Sawyer      |7.0              |(24,[7],[1.0]) |\n",
            "|SawyerW     |9.0              |(24,[9],[1.0]) |\n",
            "|NAmes       |0.0              |(24,[0],[1.0]) |\n",
            "+------------+-----------------+---------------+\n",
            "only showing top 20 rows\n",
            "\n"
          ]
        }
      ]
    },
    {
      "cell_type": "markdown",
      "source": [
        "#### Объединяем несколько векторов в один"
      ],
      "metadata": {
        "id": "CD9dFfU4ozfv"
      }
    },
    {
      "cell_type": "code",
      "source": [
        "OTHER_FEATURES = [\n",
        "    \"OverallQual\", \"OverallCond\", \"ExterQual\", \"BsmtCond\",\n",
        "    \"HeatingQC\", \"KitchenQual\", \"HasAllUtils\", \"For1Fam\",\n",
        "    \"HasCentralAir\", \"HasReconstruction\"\n",
        "]"
      ],
      "metadata": {
        "id": "QONihKjEVHl_"
      },
      "execution_count": 30,
      "outputs": []
    },
    {
      "cell_type": "code",
      "source": [
        "from pyspark.ml.feature import VectorAssembler\n",
        "\n",
        "union_assembler = VectorAssembler(\n",
        "    inputCols=[\"scaled_features\", \"NeighborhoodOHE\"] + OTHER_FEATURES, outputCol=\"features\"\n",
        ")\n",
        "union_sdf = union_assembler.transform(encoded_sdf)"
      ],
      "metadata": {
        "id": "3dQzYCbJpGW3"
      },
      "execution_count": 31,
      "outputs": []
    },
    {
      "cell_type": "code",
      "source": [
        "union_sdf.select(\"features\").show(truncate=False)"
      ],
      "metadata": {
        "colab": {
          "base_uri": "https://localhost:8080/"
        },
        "id": "hZLrM9GjpHnp",
        "outputId": "3269bd59-8d62-4da0-bff7-a3eac1288e27"
      },
      "execution_count": 32,
      "outputs": [
        {
          "output_type": "stream",
          "name": "stdout",
          "text": [
            "+--------------------------------------------------------------------------------------------------------------------------------------------------------------------------------------------------------------------------+\n",
            "|features                                                                                                                                                                                                                  |\n",
            "+--------------------------------------------------------------------------------------------------------------------------------------------------------------------------------------------------------------------------+\n",
            "|(40,[0,1,2,3,4,5,7,30,31,32,33,34,35,36,37,38],[-0.20707075668205258,0.35088009468698733,-0.06866821893757226,-0.7931620228890606,1.1614536249333418,-1.050633797867364,1.0,7.0,5.0,4.0,3.0,5.0,4.0,1.0,1.0,1.0])         |\n",
            "|(40,[0,1,2,3,4,5,28,30,31,32,33,34,35,36,37,38],[-0.0918548989935738,-0.06071021076074101,-0.06866821893757226,0.2570523529141964,-0.7948908644380687,-0.1566800256743195,1.0,6.0,8.0,3.0,3.0,5.0,3.0,1.0,1.0,1.0])       |\n",
            "|(40,[0,1,2,3,4,5,7,30,31,32,33,34,35,36,37,38,39],[0.07345480986380883,0.6315098484013476,-0.06866821893757226,-0.6276109882796802,1.188943243050973,-0.9844149999271384,1.0,7.0,5.0,4.0,3.0,5.0,4.0,1.0,1.0,1.0,1.0])    |\n",
            "|(40,[0,1,2,3,4,5,17,30,31,32,33,34,35,36,37,38,39],[-0.09686428411046417,0.7905333755061517,-0.06866821893757226,-0.5215548567330459,0.9369550769726882,1.8629933115025588,1.0,7.0,5.0,3.0,4.0,4.0,4.0,1.0,1.0,1.0,1.0])  |\n",
            "|(40,[0,1,2,3,4,5,19,30,31,32,33,34,35,36,37,38],[0.37501979390060985,1.6979029125159164,-0.06866821893757226,-0.045595632231077154,1.617323125384057,-0.9513056009570258,1.0,8.0,5.0,4.0,3.0,5.0,4.0,1.0,1.0,1.0])        |\n",
            "|(40,[0,1,2,3,4,5,18,30,31,32,33,34,35,36,37,38,39],[0.36049257706162774,0.03283304047737907,-0.06866821893757226,-0.9483661178353547,0.5017027901101964,-0.7195398081662364,1.0,5.0,5.0,3.0,3.0,5.0,3.0,1.0,1.0,1.0,1.0]) |\n",
            "|(40,[0,1,2,3,4,5,10,30,31,32,33,34,35,36,37,38,39],[-0.043364051062074895,0.7624704001347157,-0.06866821893757226,1.3745218365275143,-0.7948908644380687,-1.0837431968374767,1.0,8.0,5.0,4.0,3.0,5.0,4.0,1.0,1.0,1.0,1.0])|\n",
            "|(40,[0,1,2,3,4,5,14,30,31,32,33,34,35,36,37,38],[-0.013508115765408215,0.05154169072500308,-0.06866821893757226,-0.14389155903039677,1.4569670196978757,-0.05735182876398122,1.0,7.0,6.0,3.0,3.0,5.0,3.0,1.0,1.0,1.0])    |\n",
            "|(40,[0,1,2,3,4,5,8,30,31,32,33,34,35,36,37,38,39],[-0.4405081031291444,-0.023292910265492982,-0.06866821893757226,-0.36376402687098014,0.9277918709334778,1.3332429279807547,1.0,7.0,5.0,3.0,3.0,4.0,3.0,1.0,1.0,1.0,1.0])|\n",
            "|(40,[0,1,2,3,4,5,16,30,31,32,33,34,35,36,38,39],[-0.31026409008999445,-1.253386664046772,-0.06866821893757226,-0.22149360650354386,-0.7948908644380687,1.0683677362198525,1.0,5.0,6.0,3.0,3.0,5.0,3.0,1.0,1.0,1.0])       |\n",
            "|(40,[0,1,2,3,4,5,13,30,31,32,33,34,35,36,37,38],[0.06844542474691843,-0.4161745654655973,-0.06866821893757226,-0.3172027983870919,-0.7948908644380687,0.20752336299692084,1.0,5.0,5.0,3.0,3.0,5.0,3.0,1.0,1.0,1.0])       |\n",
            "|(40,[0,1,2,3,4,5,12,30,31,32,33,34,35,36,37,38,39],[0.14098132123949117,1.230186656325316,-0.06866821893757226,0.0501135596524709,1.8212044597564874,-1.1168525958075894,1.0,9.0,5.0,5.0,3.0,5.0,5.0,1.0,1.0,1.0,1.0])    |\n",
            "|(40,[0,1,2,3,4,5,13,30,31,32,33,34,35,36,37,38],[0.24557728248016236,-0.5658437674465894,-0.06866821893757226,-0.6483048676058527,-0.7948908644380687,0.30685155990725915,1.0,5.0,6.0,3.0,3.0,3.0,3.0,1.0,1.0,1.0])       |\n",
            "|(40,[0,1,2,3,4,5,7,30,31,32,33,34,35,36,37,38,39],[0.013542563865799849,1.7166115627635405,-0.06866821893757226,0.8571748533732004,-0.7948908644380687,-1.1499619947777022,1.0,7.0,5.0,4.0,3.0,5.0,4.0,1.0,1.0,1.0,1.0])  |\n",
            "|(40,[0,1,2,3,4,5,6,30,31,32,33,34,35,36,37,38],[0.0403928680923323,-0.5658437674465894,-0.06866821893757226,0.23377173867225232,-0.7948908644380687,0.37307035784748466,1.0,6.0,5.0,3.0,3.0,3.0,3.0,1.0,1.0,1.0])         |\n",
            "|(40,[0,1,2,3,4,5,16,30,31,32,33,34,35,36,37,38,39],[-0.4405081031291444,0.48184064642035546,-0.06866821893757226,-0.7983354927206038,-0.7948908644380687,1.3994617259209803,1.0,7.0,8.0,3.0,3.0,5.0,3.0,1.0,1.0,1.0,1.0]) |\n",
            "|(40,[0,1,2,3,4,5,6,30,31,32,33,34,35,36,37,38],[0.07255312054276855,0.03283304047737907,-0.06866821893757226,-0.4103252553548684,-0.7948908644380687,0.04197636814635706,1.0,6.0,7.0,3.0,3.0,5.0,3.0,1.0,1.0,1.0])        |\n",
            "|(40,[0,1,2,3,4,5,13,30,31,32,33,34,35,36,38],[0.027468654490755112,0.2012108927059952,-0.06866821893757226,0.34500134005042976,-0.7948908644380687,0.14130456505669534,1.0,4.0,5.0,3.0,1.0,3.0,3.0,1.0,1.0])              |\n",
            "|(40,[0,1,2,3,4,5,15,30,31,32,33,34,35,36,37,38],[0.3184137420797485,0.48184064642035546,-0.06866821893757226,-0.1257844146199958,-0.7948908644380687,-1.0837431968374767,1.0,5.0,5.0,3.0,3.0,5.0,4.0,1.0,1.0,1.0])        |\n",
            "|(40,[0,1,2,3,4,5,6,30,31,32,33,34,35,36,37,38,39],[-0.29623781176270136,-0.8371191960371377,-0.06866821893757226,0.45623094142860726,-0.7948908644380687,0.43928915578771016,1.0,5.0,6.0,3.0,3.0,3.0,3.0,1.0,1.0,1.0,1.0])|\n",
            "+--------------------------------------------------------------------------------------------------------------------------------------------------------------------------------------------------------------------------+\n",
            "only showing top 20 rows\n",
            "\n"
          ]
        }
      ]
    },
    {
      "cell_type": "markdown",
      "source": [
        "### Обучение модели"
      ],
      "metadata": {
        "id": "rR9sfcvvrU02"
      }
    },
    {
      "cell_type": "markdown",
      "source": [
        "#### Линейная регрессия"
      ],
      "metadata": {
        "id": "1PSpWKxovDW6"
      }
    },
    {
      "cell_type": "code",
      "source": [
        "from pyspark.ml.regression import LinearRegression\n",
        "\n",
        "lr = LinearRegression(featuresCol=\"features\", labelCol=\"SalePrice\")\n",
        "lr_model = lr.fit(union_sdf)"
      ],
      "metadata": {
        "id": "5oFa_RvdrXtF"
      },
      "execution_count": 33,
      "outputs": []
    },
    {
      "cell_type": "code",
      "source": [
        "results = lr_model.evaluate(union_sdf)"
      ],
      "metadata": {
        "id": "U25cr23BqiV4"
      },
      "execution_count": 34,
      "outputs": []
    },
    {
      "cell_type": "code",
      "source": [
        "results.rootMeanSquaredError"
      ],
      "metadata": {
        "colab": {
          "base_uri": "https://localhost:8080/"
        },
        "id": "ZZqNWxnEumMd",
        "outputId": "79e9ba00-139a-41f7-96d1-bc6c529f3279"
      },
      "execution_count": 35,
      "outputs": [
        {
          "output_type": "execute_result",
          "data": {
            "text/plain": [
              "32787.5260122065"
            ]
          },
          "metadata": {},
          "execution_count": 35
        }
      ]
    },
    {
      "cell_type": "markdown",
      "source": [
        "#### Случайный лес"
      ],
      "metadata": {
        "id": "UB3_G6Y_vH-7"
      }
    },
    {
      "cell_type": "code",
      "source": [
        "from pyspark.ml.regression import RandomForestRegressor\n",
        "\n",
        "rf = RandomForestRegressor(featuresCol=\"features\", labelCol=\"SalePrice\")\n",
        "rf_model = rf.fit(union_sdf)"
      ],
      "metadata": {
        "id": "65T2ArmKu4vN"
      },
      "execution_count": 36,
      "outputs": []
    },
    {
      "cell_type": "code",
      "source": [
        "from pyspark.ml.evaluation import RegressionEvaluator\n",
        "\n",
        "rf_sdf = rf_model.transform(union_sdf)\n",
        "err = RegressionEvaluator(labelCol=\"SalePrice\").evaluate(rf_sdf)\n",
        "err"
      ],
      "metadata": {
        "colab": {
          "base_uri": "https://localhost:8080/"
        },
        "id": "8DDpquXJvU30",
        "outputId": "a4b907a0-4095-4612-8681-f5a48d133a70"
      },
      "execution_count": 37,
      "outputs": [
        {
          "output_type": "execute_result",
          "data": {
            "text/plain": [
              "29758.67184236945"
            ]
          },
          "metadata": {},
          "execution_count": 37
        }
      ]
    }
  ]
}